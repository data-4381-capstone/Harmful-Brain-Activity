{
 "cells": [
  {
   "cell_type": "markdown",
   "id": "0c3d7379",
   "metadata": {},
   "source": [
    "### Handling Missing Values  \n",
    "  \n",
    "This notebook is focused on handling EEGs and spectrograms with missing values. The first section of code finds all EEGs and spectrograms with any missing values and then determines what the distribution of the target variable is for those EEGs and spectrograms. It also determines the distribution of the target variable if those EEGs and spectrograms were removed instead of having their missing values replaced.  \n",
    "  \n",
    "Before handling missing values, I'll need to handle outliers.. What exactly this looks like, I'm not sure. Some outlier values are likely informative, but that isn't always the case. One GRDA example which will be shown in the extreme values notebook has 9999.0 in every column for the first 2k rows of the EEG. I think it's unlikely this is the result of anything other than error in data entry and processing.\n",
    "\n",
    "It's important to hanlde outliers before filling in missing values because if extreme values aren't handled first, they will influence missing value imputation. Previously, I had chosen to use median imputation to handle missing values, but for EEGs with a large number of consecutive missing values, this inserts a flat section resembling an interdischarge interval into EEGs which shouldn't have an interdischarge interval. Only 2 of my 6 brain activity types should have an interdischarge interval in their signals: Lateralized Periodic Discharge and Generalized Periodic Discharge.  \n",
    "  \n",
    "For lateralized activity, if every electrode is missing the same set of values, then this flat section resembling an interdischarge interval is being introduced consistently across both hemispheres which is inconsistent with lateralized activity. This affects at least two categories: Lateralized Periodic Discharge and Lateralized Rhythmic Delta Activity. It seems that EEGs with missing values are often missing them consecutively across every electrode, so these problems would show up often.  \n",
    "  \n",
    "I think an algorithmic approach which takes into account the signal typical of that EEG's activity type and also the signal typical of that electrode within that activity type is likely best, but I'm not sure how to approach that. There doesn't seem to be a default approach based on what I've seen looking up papers so far. Some people use neural networks like CNNs or Transformers, but I'm not taking a deep learning approach to this, so I don't intend to use a deep learning approach for this step of EEG preprocessing.  \n",
    "  \n",
    "If I can't implement an effective algorithmic method for missing value imputation, then another idea is to replace missing values with random values in that electrode's IQR. This at least avoids inserting a flat section across electrodes and across activity types. It won't recreate the signal that likely would have been recorded during that section of the EEG, but it shouldn't introduce a signal that is characteristic of any of my activity types into the EEGs of all activity types. This method should be superior to median imputation given the nature of EEG data."
   ]
  },
  {
   "cell_type": "code",
   "execution_count": 1,
   "id": "4bcfa4ac",
   "metadata": {},
   "outputs": [],
   "source": [
    "import pandas as pd\n",
    "import numpy as np\n",
    "import matplotlib.pyplot as plt\n",
    "import fastparquet, pyarrow"
   ]
  },
  {
   "cell_type": "code",
   "execution_count": 2,
   "id": "7f7855ab",
   "metadata": {},
   "outputs": [],
   "source": [
    "df = pd.read_csv('train.csv')"
   ]
  },
  {
   "cell_type": "code",
   "execution_count": 3,
   "id": "2a0c26e2",
   "metadata": {},
   "outputs": [
    {
     "data": {
      "text/html": [
       "<div>\n",
       "<style scoped>\n",
       "    .dataframe tbody tr th:only-of-type {\n",
       "        vertical-align: middle;\n",
       "    }\n",
       "\n",
       "    .dataframe tbody tr th {\n",
       "        vertical-align: top;\n",
       "    }\n",
       "\n",
       "    .dataframe thead th {\n",
       "        text-align: right;\n",
       "    }\n",
       "</style>\n",
       "<table border=\"1\" class=\"dataframe\">\n",
       "  <thead>\n",
       "    <tr style=\"text-align: right;\">\n",
       "      <th></th>\n",
       "      <th>eeg_id</th>\n",
       "      <th>eeg_sub_id</th>\n",
       "      <th>eeg_label_offset_seconds</th>\n",
       "      <th>spectrogram_id</th>\n",
       "      <th>spectrogram_sub_id</th>\n",
       "      <th>spectrogram_label_offset_seconds</th>\n",
       "      <th>label_id</th>\n",
       "      <th>patient_id</th>\n",
       "      <th>expert_consensus</th>\n",
       "      <th>seizure_vote</th>\n",
       "      <th>lpd_vote</th>\n",
       "      <th>gpd_vote</th>\n",
       "      <th>lrda_vote</th>\n",
       "      <th>grda_vote</th>\n",
       "      <th>other_vote</th>\n",
       "    </tr>\n",
       "  </thead>\n",
       "  <tbody>\n",
       "    <tr>\n",
       "      <th>0</th>\n",
       "      <td>1628180742</td>\n",
       "      <td>0</td>\n",
       "      <td>0.0</td>\n",
       "      <td>353733</td>\n",
       "      <td>0</td>\n",
       "      <td>0.0</td>\n",
       "      <td>127492639</td>\n",
       "      <td>42516</td>\n",
       "      <td>Seizure</td>\n",
       "      <td>3</td>\n",
       "      <td>0</td>\n",
       "      <td>0</td>\n",
       "      <td>0</td>\n",
       "      <td>0</td>\n",
       "      <td>0</td>\n",
       "    </tr>\n",
       "    <tr>\n",
       "      <th>1</th>\n",
       "      <td>1628180742</td>\n",
       "      <td>1</td>\n",
       "      <td>6.0</td>\n",
       "      <td>353733</td>\n",
       "      <td>1</td>\n",
       "      <td>6.0</td>\n",
       "      <td>3887563113</td>\n",
       "      <td>42516</td>\n",
       "      <td>Seizure</td>\n",
       "      <td>3</td>\n",
       "      <td>0</td>\n",
       "      <td>0</td>\n",
       "      <td>0</td>\n",
       "      <td>0</td>\n",
       "      <td>0</td>\n",
       "    </tr>\n",
       "    <tr>\n",
       "      <th>2</th>\n",
       "      <td>1628180742</td>\n",
       "      <td>2</td>\n",
       "      <td>8.0</td>\n",
       "      <td>353733</td>\n",
       "      <td>2</td>\n",
       "      <td>8.0</td>\n",
       "      <td>1142670488</td>\n",
       "      <td>42516</td>\n",
       "      <td>Seizure</td>\n",
       "      <td>3</td>\n",
       "      <td>0</td>\n",
       "      <td>0</td>\n",
       "      <td>0</td>\n",
       "      <td>0</td>\n",
       "      <td>0</td>\n",
       "    </tr>\n",
       "    <tr>\n",
       "      <th>3</th>\n",
       "      <td>1628180742</td>\n",
       "      <td>3</td>\n",
       "      <td>18.0</td>\n",
       "      <td>353733</td>\n",
       "      <td>3</td>\n",
       "      <td>18.0</td>\n",
       "      <td>2718991173</td>\n",
       "      <td>42516</td>\n",
       "      <td>Seizure</td>\n",
       "      <td>3</td>\n",
       "      <td>0</td>\n",
       "      <td>0</td>\n",
       "      <td>0</td>\n",
       "      <td>0</td>\n",
       "      <td>0</td>\n",
       "    </tr>\n",
       "    <tr>\n",
       "      <th>4</th>\n",
       "      <td>1628180742</td>\n",
       "      <td>4</td>\n",
       "      <td>24.0</td>\n",
       "      <td>353733</td>\n",
       "      <td>4</td>\n",
       "      <td>24.0</td>\n",
       "      <td>3080632009</td>\n",
       "      <td>42516</td>\n",
       "      <td>Seizure</td>\n",
       "      <td>3</td>\n",
       "      <td>0</td>\n",
       "      <td>0</td>\n",
       "      <td>0</td>\n",
       "      <td>0</td>\n",
       "      <td>0</td>\n",
       "    </tr>\n",
       "  </tbody>\n",
       "</table>\n",
       "</div>"
      ],
      "text/plain": [
       "       eeg_id  eeg_sub_id  eeg_label_offset_seconds  spectrogram_id  \\\n",
       "0  1628180742           0                       0.0          353733   \n",
       "1  1628180742           1                       6.0          353733   \n",
       "2  1628180742           2                       8.0          353733   \n",
       "3  1628180742           3                      18.0          353733   \n",
       "4  1628180742           4                      24.0          353733   \n",
       "\n",
       "   spectrogram_sub_id  spectrogram_label_offset_seconds    label_id  \\\n",
       "0                   0                               0.0   127492639   \n",
       "1                   1                               6.0  3887563113   \n",
       "2                   2                               8.0  1142670488   \n",
       "3                   3                              18.0  2718991173   \n",
       "4                   4                              24.0  3080632009   \n",
       "\n",
       "   patient_id expert_consensus  seizure_vote  lpd_vote  gpd_vote  lrda_vote  \\\n",
       "0       42516          Seizure             3         0         0          0   \n",
       "1       42516          Seizure             3         0         0          0   \n",
       "2       42516          Seizure             3         0         0          0   \n",
       "3       42516          Seizure             3         0         0          0   \n",
       "4       42516          Seizure             3         0         0          0   \n",
       "\n",
       "   grda_vote  other_vote  \n",
       "0          0           0  \n",
       "1          0           0  \n",
       "2          0           0  \n",
       "3          0           0  \n",
       "4          0           0  "
      ]
     },
     "execution_count": 3,
     "metadata": {},
     "output_type": "execute_result"
    }
   ],
   "source": [
    "df.head()"
   ]
  },
  {
   "cell_type": "code",
   "execution_count": 4,
   "id": "3f3e3e6f",
   "metadata": {},
   "outputs": [],
   "source": [
    "df['row'] = [i for i in range(df.shape[0])]"
   ]
  },
  {
   "cell_type": "code",
   "execution_count": 5,
   "id": "81a85a36",
   "metadata": {},
   "outputs": [
    {
     "data": {
      "text/plain": [
       "array([    568657,     582999,     642382, ..., 4294455489, 4294858825,\n",
       "       4294958358])"
      ]
     },
     "execution_count": 5,
     "metadata": {},
     "output_type": "execute_result"
    }
   ],
   "source": [
    "np.unique(df['eeg_id'])"
   ]
  },
  {
   "cell_type": "markdown",
   "id": "aa4b2f76",
   "metadata": {},
   "source": [
    "##### Finding All EEGs with Missing Values"
   ]
  },
  {
   "cell_type": "code",
   "execution_count": 6,
   "id": "08c74f8a",
   "metadata": {},
   "outputs": [],
   "source": [
    "eeg_null_ids = []\n",
    "eeg_null_ratios = []\n",
    "for i in np.unique(df['eeg_id']):\n",
    "    eeg = pd.read_parquet('train_eegs/{}.parquet'.format(i), engine = 'pyarrow')\n",
    "    num_entries = eeg.shape[0] * eeg.shape[1]\n",
    "    num_nulls = pd.isnull(eeg).sum().sum()\n",
    "    ratio = num_nulls / num_entries\n",
    "    if ratio > 0.0:\n",
    "        eeg_null_ids.append(i)\n",
    "        eeg_null_ratios.append(ratio)"
   ]
  },
  {
   "cell_type": "markdown",
   "id": "2c3974f1",
   "metadata": {},
   "source": [
    "##### Finding All Spectrograms with Missing Values"
   ]
  },
  {
   "cell_type": "code",
   "execution_count": null,
   "id": "ae270050",
   "metadata": {},
   "outputs": [],
   "source": [
    "spec_null_ids = []\n",
    "spec_null_ratios = []\n",
    "for i in np.unique(df['spectrogram_id']):\n",
    "    spec = pd.read_parquet('train_spectrograms/{}.parquet'.format(i), engine = 'pyarrow')\n",
    "    num_entries = spec.shape[0] * spec.shape[1]\n",
    "    num_nulls = pd.isnull(spec).sum().sum()\n",
    "    ratio = num_nulls / num_entries\n",
    "    if ratio > 0.0:\n",
    "        spec_null_ids.append(i)\n",
    "        spec_null_ratios.append(ratio)"
   ]
  },
  {
   "cell_type": "markdown",
   "id": "005a0f9a",
   "metadata": {},
   "source": [
    "##### Metadata Dataframe of EEGs and Spectrograms with Missing Values"
   ]
  },
  {
   "cell_type": "code",
   "execution_count": null,
   "id": "3cbc56ef",
   "metadata": {},
   "outputs": [],
   "source": [
    "missingval_df = df[df['eeg_id'] == eeg_null_ids[0]]"
   ]
  },
  {
   "cell_type": "code",
   "execution_count": null,
   "id": "638a663b",
   "metadata": {},
   "outputs": [],
   "source": [
    "for i in range(1, len(eeg_null_ids)):\n",
    "    missingval_df = pd.concat([missingval_df, df[df['eeg_id'] == eeg_null_ids[i]]], axis = 0)"
   ]
  },
  {
   "cell_type": "code",
   "execution_count": null,
   "id": "303694ae",
   "metadata": {},
   "outputs": [],
   "source": [
    "for i in range(len(spec_null_ids)):\n",
    "    missingval_df = pd.concat([missingval_df, df[df['spectrogram_id'] == spec_null_ids[i]]], axis = 0)"
   ]
  },
  {
   "cell_type": "code",
   "execution_count": null,
   "id": "84b3c905",
   "metadata": {},
   "outputs": [],
   "source": [
    "null_rows = np.unique(missingval_df['row'])"
   ]
  },
  {
   "cell_type": "code",
   "execution_count": null,
   "id": "f6f1a0d5",
   "metadata": {},
   "outputs": [],
   "source": [
    "null_df = df[df['row'] == null_rows[0]]"
   ]
  },
  {
   "cell_type": "code",
   "execution_count": null,
   "id": "ee90e048",
   "metadata": {},
   "outputs": [],
   "source": [
    "for i in range(1, len(null_rows)):\n",
    "    null_df = pd.concat([null_df, df[df['row'] == null_rows[i]]], axis = 0)"
   ]
  },
  {
   "cell_type": "code",
   "execution_count": null,
   "id": "bd1c6d03",
   "metadata": {},
   "outputs": [],
   "source": [
    "null_df.to_csv('null_metadata.csv', index = False)"
   ]
  },
  {
   "cell_type": "markdown",
   "id": "67c1e83e",
   "metadata": {},
   "source": [
    "##### Target Variable Distribution for EEGs and Spectrograms with Missing Values"
   ]
  },
  {
   "cell_type": "code",
   "execution_count": null,
   "id": "4ce8f895",
   "metadata": {},
   "outputs": [],
   "source": [
    "null_df['expert_consensus'].value_counts(normalize = True)"
   ]
  },
  {
   "cell_type": "markdown",
   "id": "833e6234",
   "metadata": {},
   "source": [
    "##### Target Variable Distribution for All EEGs and Spectrograms"
   ]
  },
  {
   "cell_type": "code",
   "execution_count": null,
   "id": "a83a1c13",
   "metadata": {},
   "outputs": [],
   "source": [
    "df['expert_consensus'].value_counts(normalize = True)"
   ]
  },
  {
   "cell_type": "markdown",
   "id": "a846ea5a",
   "metadata": {},
   "source": [
    "##### Target Variable Distribution if All Null EEGs and Spectrograms Were Removed"
   ]
  },
  {
   "cell_type": "code",
   "execution_count": null,
   "id": "6f1a7b11",
   "metadata": {},
   "outputs": [],
   "source": [
    "removal_df = df.drop(index = null_rows[0])"
   ]
  },
  {
   "cell_type": "code",
   "execution_count": null,
   "id": "32ae806c",
   "metadata": {},
   "outputs": [],
   "source": [
    "for i in range(1, len(null_rows)):\n",
    "    removal_df = removal_df.drop(index = null_rows[i])"
   ]
  },
  {
   "cell_type": "code",
   "execution_count": null,
   "id": "7a31f852",
   "metadata": {},
   "outputs": [],
   "source": [
    "removal_df['expert_consensus'].value_counts(normalize = True)"
   ]
  },
  {
   "cell_type": "code",
   "execution_count": null,
   "id": "bcb0e6bb",
   "metadata": {},
   "outputs": [],
   "source": [
    "removal_df.to_csv('nulls_dropped.csv', index = False)"
   ]
  },
  {
   "cell_type": "markdown",
   "id": "74b87e4f",
   "metadata": {},
   "source": [
    "##### Activity Type DFs"
   ]
  },
  {
   "cell_type": "code",
   "execution_count": null,
   "id": "7e7ca840",
   "metadata": {},
   "outputs": [],
   "source": [
    "seizure_df = df[df['expert_consensus'] == 'Seizure']\n",
    "lpd_df = df[df['expert_consensus'] == 'LPD']\n",
    "gpd_df = df[df['expert_consensus'] == 'GPD']\n",
    "lrda_df = df[df['expert_consensus'] == 'LRDA']\n",
    "grda_df = df[df['expert_consensus'] == 'GRDA']\n",
    "other_df = df[df['expert_consensus'] == 'Other']"
   ]
  },
  {
   "cell_type": "code",
   "execution_count": null,
   "id": "3d72f9d2",
   "metadata": {},
   "outputs": [],
   "source": [
    "seizure_df = seizure_df.reset_index().drop(columns = 'index')\n",
    "lpd_df = lpd_df.reset_index().drop(columns = 'index')\n",
    "gpd_df = gpd_df.reset_index().drop(columns = 'index')\n",
    "lrda_df = lrda_df.reset_index().drop(columns = 'index')\n",
    "grda_df = grda_df.reset_index().drop(columns = 'index')\n",
    "other_df = other_df.reset_index().drop(columns = 'index')"
   ]
  },
  {
   "cell_type": "code",
   "execution_count": null,
   "id": "90367f50",
   "metadata": {},
   "outputs": [],
   "source": []
  }
 ],
 "metadata": {
  "kernelspec": {
   "display_name": "Python 3 (ipykernel)",
   "language": "python",
   "name": "python3"
  },
  "language_info": {
   "codemirror_mode": {
    "name": "ipython",
    "version": 3
   },
   "file_extension": ".py",
   "mimetype": "text/x-python",
   "name": "python",
   "nbconvert_exporter": "python",
   "pygments_lexer": "ipython3",
   "version": "3.8.10"
  }
 },
 "nbformat": 4,
 "nbformat_minor": 5
}

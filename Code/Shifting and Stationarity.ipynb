{
 "cells": [
  {
   "cell_type": "markdown",
   "id": "f9c26be9",
   "metadata": {},
   "source": [
    "### Stationarity and Time Series Shifting  \n",
    "  \n",
    "This notebook is for using Augmented Dickey-Fuller to test for stationarity of time series data and exploring shifting different windows to make that window stationary.  \n",
    "  \n",
    "Fourier Transforms treat the time series data as stationary, but EEG data isn't stationary. For this reason, methods like Short-Time Fourier Transform and Wavelet Transform are used. Short-Time Fourier Transform still treats the data as stationary, but it segments the time series by a set window length and does Fourier Transforms on those windows of the time series. By segmenting the time series, you create time series which are more likely to be stationary. However, you can also generate stationary time series by shifting the time series. The thought is using ADF to determine when a segment is non-stationary and then shifting until it's stationary might help generate better STFT results and then better band power analysis results."
   ]
  },
  {
   "cell_type": "code",
   "execution_count": 1,
   "id": "38f1fe06",
   "metadata": {},
   "outputs": [],
   "source": [
    "import pandas as pd\n",
    "import numpy as np\n",
    "import matplotlib.pyplot as plt\n",
    "import fastparquet, pyarrow\n",
    "from statsmodels.tsa.stattools import adfuller\n",
    "from sklearn.preprocessing import StandardScaler"
   ]
  },
  {
   "cell_type": "markdown",
   "id": "97cd76ad",
   "metadata": {},
   "source": [
    "### Data Loading and Splitting  \n",
    "  \n",
    "Metadata with Nulls Removed"
   ]
  },
  {
   "cell_type": "code",
   "execution_count": 2,
   "id": "ee2657f8",
   "metadata": {},
   "outputs": [],
   "source": [
    "df = pd.read_csv('working_data.csv')"
   ]
  },
  {
   "cell_type": "code",
   "execution_count": 32,
   "id": "1042c2a2",
   "metadata": {},
   "outputs": [],
   "source": [
    "def activity_df(activity_type):\n",
    "    return df[df['expert_consensus'] == activity_type].reset_index().drop(columns = 'index')\n",
    "\n",
    "seizure_df = activity_df('Seizure')\n",
    "lpd_df = activity_df('LPD')\n",
    "gpd_df = activity_df('GPD')\n",
    "lrda_df = activity_df('LRDA')\n",
    "grda_df = activity_df('GRDA')\n",
    "other_df = activity_df('Other')"
   ]
  },
  {
   "cell_type": "markdown",
   "id": "f9d7f74c",
   "metadata": {},
   "source": [
    "### Function to Load and Scale Sub EEGs"
   ]
  },
  {
   "cell_type": "code",
   "execution_count": 33,
   "id": "be254d47",
   "metadata": {},
   "outputs": [],
   "source": [
    "def scale(df, row):\n",
    "    eeg = pd.read_parquet('train_eegs/{}.parquet'.format(df['eeg_id'][row]), engine = 'pyarrow')\n",
    "    start = int(df['eeg_label_offset_seconds'][row] * 200)\n",
    "    finish = start + 10000\n",
    "    sub_eeg = eeg[start: finish]\n",
    "    sub_eeg = sub_eeg.reset_index().drop(columns = 'index')\n",
    "    electrodes = sub_eeg.columns\n",
    "    scaler = StandardScaler()\n",
    "    sub_eeg = scaler.fit_transform(sub_eeg)\n",
    "    return pd.DataFrame(sub_eeg, columns = electrodes)"
   ]
  },
  {
   "cell_type": "markdown",
   "id": "10f07341",
   "metadata": {},
   "source": [
    "### Function to Convert to Pandas Series and Check Augmented Dickey Fuller"
   ]
  },
  {
   "cell_type": "code",
   "execution_count": 37,
   "id": "649ae07e",
   "metadata": {},
   "outputs": [],
   "source": [
    "def check_adf(sub_eeg, electrode):\n",
    "    time_series = pd.Series(sub_eeg[electrode])\n",
    "    if adfuller(time_series)[1] <= 0.05:\n",
    "        return True\n",
    "    else:\n",
    "        return False"
   ]
  },
  {
   "cell_type": "code",
   "execution_count": 39,
   "id": "fc9295bd",
   "metadata": {},
   "outputs": [],
   "source": [
    "seizure_randoms = np.random.choice([i for i in range(seizure_df.shape[0])], size = 5, replace = False)\n",
    "lpd_randoms = np.random.choice([i for i in range(lpd_df.shape[0])], size = 5, replace = False)\n",
    "gpd_randoms = np.random.choice([i for i in range(gpd_df.shape[0])], size = 5, replace = False)\n",
    "lrda_randoms = np.random.choice([i for i in range(lrda_df.shape[0])], size = 5, replace = False)\n",
    "grda_randoms = np.random.choice([i for i in range(grda_df.shape[0])], size = 5, replace = False)\n",
    "other_randoms = np.random.choice([i for i in range(other_df.shape[0])], size = 5, replace = False)"
   ]
  },
  {
   "cell_type": "code",
   "execution_count": 42,
   "id": "3125175d",
   "metadata": {},
   "outputs": [
    {
     "name": "stdout",
     "output_type": "stream",
     "text": [
      "False\n",
      "True\n",
      "True\n",
      "False\n",
      "True\n"
     ]
    }
   ],
   "source": [
    "for i in seizure_randoms:\n",
    "    print(check_adf(scale(seizure_df, i), 'F7'))"
   ]
  },
  {
   "cell_type": "code",
   "execution_count": 48,
   "id": "c079afb1",
   "metadata": {},
   "outputs": [
    {
     "data": {
      "text/plain": [
       "(6301, 2147)"
      ]
     },
     "execution_count": 48,
     "metadata": {},
     "output_type": "execute_result"
    }
   ],
   "source": [
    "seizure_randoms[0], seizure_randoms[3]"
   ]
  },
  {
   "cell_type": "code",
   "execution_count": 54,
   "id": "1b37cf12",
   "metadata": {},
   "outputs": [],
   "source": [
    "nonstationary1 = scale(seizure_df, 6301)\n",
    "nonstationary2 = scale(seizure_df, 2147)"
   ]
  },
  {
   "cell_type": "code",
   "execution_count": 68,
   "id": "75cfdf84",
   "metadata": {},
   "outputs": [
    {
     "data": {
      "text/plain": [
       "False"
      ]
     },
     "execution_count": 68,
     "metadata": {},
     "output_type": "execute_result"
    }
   ],
   "source": [
    "check_adf(nonstationary1, 'F7')"
   ]
  },
  {
   "cell_type": "code",
   "execution_count": 55,
   "id": "f5d5bdea",
   "metadata": {},
   "outputs": [
    {
     "data": {
      "image/png": "[encoded data removed]",
      "text/plain": [
       "<Figure size 432x288 with 1 Axes>"
      ]
     },
     "metadata": {
      "needs_background": "light"
     },
     "output_type": "display_data"
    }
   ],
   "source": [
    "plt.plot(nonstationary1['F7'])\n",
    "plt.title('Nonstationary Seizure Sub EEG Example 1 (F7)')\n",
    "plt.show()"
   ]
  },
  {
   "cell_type": "code",
   "execution_count": 67,
   "id": "5ed5d87e",
   "metadata": {},
   "outputs": [
    {
     "data": {
      "text/plain": [
       "True"
      ]
     },
     "execution_count": 67,
     "metadata": {},
     "output_type": "execute_result"
    }
   ],
   "source": [
    "check_adf(nonstationary1[6000:10000], 'F7')"
   ]
  },
  {
   "cell_type": "code",
   "execution_count": 65,
   "id": "85120db0",
   "metadata": {},
   "outputs": [
    {
     "data": {
      "image/png": "[encoded data removed]",
      "text/plain": [
       "<Figure size 432x288 with 1 Axes>"
      ]
     },
     "metadata": {
      "needs_background": "light"
     },
     "output_type": "display_data"
    }
   ],
   "source": [
    "plt.plot(nonstationary1[6000:10000]['F7'])\n",
    "plt.title('Stationary Section of Nonstationary Seizure Sub EEG Example 1 (F7)')\n",
    "plt.show()"
   ]
  },
  {
   "cell_type": "code",
   "execution_count": 69,
   "id": "653f0ffc",
   "metadata": {},
   "outputs": [
    {
     "data": {
      "text/plain": [
       "False"
      ]
     },
     "execution_count": 69,
     "metadata": {},
     "output_type": "execute_result"
    }
   ],
   "source": [
    "check_adf(nonstationary2, 'F7')"
   ]
  },
  {
   "cell_type": "code",
   "execution_count": 51,
   "id": "18032487",
   "metadata": {},
   "outputs": [
    {
     "data": {
      "image/png": "[encoded data removed]",
      "text/plain": [
       "<Figure size 432x288 with 1 Axes>"
      ]
     },
     "metadata": {
      "needs_background": "light"
     },
     "output_type": "display_data"
    }
   ],
   "source": [
    "plt.plot(nonstationary2['F7'])\n",
    "plt.title('Nonstationary Seizure Sub EEG Example 2 (F7)')\n",
    "plt.show()"
   ]
  },
  {
   "cell_type": "code",
   "execution_count": 70,
   "id": "ed4fff94",
   "metadata": {},
   "outputs": [
    {
     "data": {
      "text/plain": [
       "True"
      ]
     },
     "execution_count": 70,
     "metadata": {},
     "output_type": "execute_result"
    }
   ],
   "source": [
    "check_adf(nonstationary2[6000:10000], 'F7')"
   ]
  },
  {
   "cell_type": "code",
   "execution_count": 71,
   "id": "efff1e11",
   "metadata": {},
   "outputs": [
    {
     "data": {
      "image/png": "[encoded data removed]",
      "text/plain": [
       "<Figure size 432x288 with 1 Axes>"
      ]
     },
     "metadata": {
      "needs_background": "light"
     },
     "output_type": "display_data"
    }
   ],
   "source": [
    "plt.plot(nonstationary2[6000:10000]['F7'])\n",
    "plt.title('Stationary Section of Nonstationary Seizure Sub EEG Example 2 (F7)')\n",
    "plt.show()"
   ]
  },
  {
   "cell_type": "code",
   "execution_count": 43,
   "id": "7ebc9b46",
   "metadata": {},
   "outputs": [
    {
     "name": "stdout",
     "output_type": "stream",
     "text": [
      "True\n",
      "True\n",
      "True\n",
      "True\n",
      "True\n"
     ]
    }
   ],
   "source": [
    "for i in lpd_randoms:\n",
    "    print(check_adf(scale(lpd_df, i), 'F7'))"
   ]
  },
  {
   "cell_type": "code",
   "execution_count": 44,
   "id": "3ce97911",
   "metadata": {},
   "outputs": [
    {
     "name": "stdout",
     "output_type": "stream",
     "text": [
      "True\n",
      "True\n",
      "True\n",
      "True\n",
      "True\n"
     ]
    }
   ],
   "source": [
    "for i in gpd_randoms:\n",
    "    print(check_adf(scale(gpd_df, i), 'F7'))"
   ]
  },
  {
   "cell_type": "code",
   "execution_count": 45,
   "id": "3f35d2aa",
   "metadata": {},
   "outputs": [
    {
     "name": "stdout",
     "output_type": "stream",
     "text": [
      "True\n",
      "True\n",
      "True\n",
      "True\n",
      "True\n"
     ]
    }
   ],
   "source": [
    "for i in lrda_randoms:\n",
    "    print(check_adf(scale(lrda_df, i), 'F7'))"
   ]
  },
  {
   "cell_type": "code",
   "execution_count": 46,
   "id": "26a44fa3",
   "metadata": {},
   "outputs": [
    {
     "name": "stdout",
     "output_type": "stream",
     "text": [
      "True\n",
      "True\n",
      "True\n",
      "True\n",
      "True\n"
     ]
    }
   ],
   "source": [
    "for i in grda_randoms:\n",
    "    print(check_adf(scale(grda_df, i), 'F7'))"
   ]
  },
  {
   "cell_type": "code",
   "execution_count": 47,
   "id": "0fd2094d",
   "metadata": {},
   "outputs": [
    {
     "name": "stdout",
     "output_type": "stream",
     "text": [
      "True\n",
      "True\n",
      "True\n",
      "True\n",
      "True\n"
     ]
    }
   ],
   "source": [
    "for i in other_randoms:\n",
    "    print(check_adf(scale(other_df, i), 'F7'))"
   ]
  },
  {
   "cell_type": "code",
   "execution_count": null,
   "id": "1c7d7321",
   "metadata": {},
   "outputs": [],
   "source": []
  }
 ],
 "metadata": {
  "kernelspec": {
   "display_name": "Python 3 (ipykernel)",
   "language": "python",
   "name": "python3"
  },
  "language_info": {
   "codemirror_mode": {
    "name": "ipython",
    "version": 3
   },
   "file_extension": ".py",
   "mimetype": "text/x-python",
   "name": "python",
   "nbconvert_exporter": "python",
   "pygments_lexer": "ipython3",
   "version": "3.8.10"
  }
 },
 "nbformat": 4,
 "nbformat_minor": 5
}
